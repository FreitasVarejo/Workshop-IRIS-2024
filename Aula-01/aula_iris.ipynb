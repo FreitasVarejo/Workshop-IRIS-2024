{
  "cells": [
    {
      "cell_type": "markdown",
      "metadata": {
        "id": "Lc2RP_ndH-8d"
      },
      "source": [
        "# Introdução a Python"
      ]
    },
    {
      "cell_type": "markdown",
      "metadata": {
        "id": "alNcBj28H-8f"
      },
      "source": [
        "## Variáveis\n",
        "\n",
        "Uma variável é um nome que se refere a um objeto que reside na memória. O valor da variável pode ser alterado durante a execução do programa."
      ]
    },
    {
      "cell_type": "code",
      "execution_count": null,
      "metadata": {
        "id": "UFcehSYxH-8g",
        "vscode": {
          "languageId": "plaintext"
        }
      },
      "outputs": [],
      "source": [
        "x = 5\n",
        "nome = \"Alice\""
      ]
    },
    {
      "cell_type": "markdown",
      "metadata": {
        "id": "l3yeMBl9H-8i"
      },
      "source": [
        "## Tipos de Variáveis"
      ]
    },
    {
      "cell_type": "code",
      "execution_count": null,
      "metadata": {
        "id": "0vRIXIphH-8i",
        "vscode": {
          "languageId": "plaintext"
        }
      },
      "outputs": [],
      "source": [
        "idade = 30  # int\n",
        "altura = 1.75  # float\n",
        "estudando = True  # bool"
      ]
    },
    {
      "cell_type": "markdown",
      "metadata": {
        "id": "9-7_K3upH-8i"
      },
      "source": [
        "## Strings"
      ]
    },
    {
      "cell_type": "code",
      "execution_count": 1,
      "metadata": {
        "colab": {
          "base_uri": "https://localhost:8080/",
          "height": 36
        },
        "id": "V4KD61hBH-8j",
        "outputId": "f5d34681-26d0-40cd-f2f9-d4db9ac7679c",
        "vscode": {
          "languageId": "plaintext"
        }
      },
      "outputs": [
        {
          "data": {
            "application/vnd.google.colaboratory.intrinsic+json": {
              "type": "string"
            },
            "text/plain": [
              "'olá, alice'"
            ]
          },
          "execution_count": 1,
          "metadata": {},
          "output_type": "execute_result"
        }
      ],
      "source": [
        "nome = \"Alice\"\n",
        "saudacao = \"Olá, \" + nome  # Concatenação\n",
        "saudacao.title()"
      ]
    },
    {
      "cell_type": "code",
      "execution_count": 2,
      "metadata": {
        "colab": {
          "base_uri": "https://localhost:8080/",
          "height": 36
        },
        "id": "q-Fw-lo4ILXz",
        "outputId": "91abbc03-c746-4b6f-a027-e693fd7d07f8"
      },
      "outputs": [
        {
          "data": {
            "application/vnd.google.colaboratory.intrinsic+json": {
              "type": "string"
            },
            "text/plain": [
              "'OLÁ, ALICE'"
            ]
          },
          "execution_count": 2,
          "metadata": {},
          "output_type": "execute_result"
        }
      ],
      "source": [
        "saudacao.upper()"
      ]
    },
    {
      "cell_type": "code",
      "execution_count": 3,
      "metadata": {
        "colab": {
          "base_uri": "https://localhost:8080/",
          "height": 36
        },
        "id": "DGCF3YfmILOz",
        "outputId": "bc14d658-affd-4f38-de8f-8268f3f6164b"
      },
      "outputs": [
        {
          "data": {
            "application/vnd.google.colaboratory.intrinsic+json": {
              "type": "string"
            },
            "text/plain": [
              "'olá, alice'"
            ]
          },
          "execution_count": 3,
          "metadata": {},
          "output_type": "execute_result"
        }
      ],
      "source": [
        "saudacao.lower()"
      ]
    },
    {
      "cell_type": "markdown",
      "metadata": {
        "id": "WCjhuVpsH-8j"
      },
      "source": [
        "### String Slicing\n",
        "\n",
        "Sintaxe: `string[inicio:fim:passo]`"
      ]
    },
    {
      "cell_type": "code",
      "execution_count": 10,
      "metadata": {
        "colab": {
          "base_uri": "https://localhost:8080/",
          "height": 36
        },
        "id": "AxZA36kVIZV9",
        "outputId": "3f13b498-fa41-4a78-f586-441053fe51b9"
      },
      "outputs": [
        {
          "data": {
            "application/vnd.google.colaboratory.intrinsic+json": {
              "type": "string"
            },
            "text/plain": [
              "'Python'"
            ]
          },
          "execution_count": 10,
          "metadata": {},
          "output_type": "execute_result"
        }
      ],
      "source": [
        "texto = \"Python é incrível\"\n",
        "texto[0:6]"
      ]
    },
    {
      "cell_type": "code",
      "execution_count": 12,
      "metadata": {
        "colab": {
          "base_uri": "https://localhost:8080/",
          "height": 36
        },
        "id": "Qslv7Q9TIc3G",
        "outputId": "4b2fd76d-e0cc-4cd4-8ec6-f91895623e11"
      },
      "outputs": [
        {
          "data": {
            "application/vnd.google.colaboratory.intrinsic+json": {
              "type": "string"
            },
            "text/plain": [
              "'Python é'"
            ]
          },
          "execution_count": 12,
          "metadata": {},
          "output_type": "execute_result"
        }
      ],
      "source": [
        "# Pegar tudo até \"incrível\"\n",
        "texto[:-9]"
      ]
    },
    {
      "cell_type": "code",
      "execution_count": 13,
      "metadata": {
        "colab": {
          "base_uri": "https://localhost:8080/",
          "height": 36
        },
        "id": "m88kNPCPIc0i",
        "outputId": "b348f9eb-ee3a-4f43-90e1-8fc81bc5cc53"
      },
      "outputs": [
        {
          "data": {
            "application/vnd.google.colaboratory.intrinsic+json": {
              "type": "string"
            },
            "text/plain": [
              "'incrível'"
            ]
          },
          "execution_count": 13,
          "metadata": {},
          "output_type": "execute_result"
        }
      ],
      "source": [
        "# Pegar a palavra \"incrível\" (começa no índice 9 até o fim)\n",
        "texto[9:]"
      ]
    },
    {
      "cell_type": "code",
      "execution_count": 14,
      "metadata": {
        "colab": {
          "base_uri": "https://localhost:8080/",
          "height": 36
        },
        "id": "QU9-l4UPIcw-",
        "outputId": "7e1bd361-96ef-4b2f-d3b2-7c1fa9610f8c"
      },
      "outputs": [
        {
          "data": {
            "application/vnd.google.colaboratory.intrinsic+json": {
              "type": "string"
            },
            "text/plain": [
              "'Pto  nrvl'"
            ]
          },
          "execution_count": 14,
          "metadata": {},
          "output_type": "execute_result"
        }
      ],
      "source": [
        "# Pegar caracteres em posições pares (começando do índice 0)\n",
        "texto[::2]"
      ]
    },
    {
      "cell_type": "code",
      "execution_count": 15,
      "metadata": {
        "colab": {
          "base_uri": "https://localhost:8080/",
          "height": 36
        },
        "id": "EtCAcyl3IcnG",
        "outputId": "a1cd46f2-1bef-438e-ba9f-acfc14d5fcb2"
      },
      "outputs": [
        {
          "data": {
            "application/vnd.google.colaboratory.intrinsic+json": {
              "type": "string"
            },
            "text/plain": [
              "'levírcni é nohtyP'"
            ]
          },
          "execution_count": 15,
          "metadata": {},
          "output_type": "execute_result"
        }
      ],
      "source": [
        "# Inverter a string\n",
        "texto[::-1]"
      ]
    },
    {
      "cell_type": "markdown",
      "metadata": {},
      "source": [
        "## Entrada e Saída"
      ]
    },
    {
      "cell_type": "code",
      "execution_count": null,
      "metadata": {},
      "outputs": [],
      "source": [
        "nome = input(\"Por favor, insira seu nome: \")\n",
        "\n",
        "print(\"Olá, \" + nome + \"! Seja bem-vinde ao Iris.\")"
      ]
    },
    {
      "cell_type": "code",
      "execution_count": null,
      "metadata": {},
      "outputs": [],
      "source": [
        "x = input(\"Insira sua idade: \")\n",
        "y = int(input(\"Insira sua idade: \"))\n",
        "\n",
        "print(type(x))\n",
        "print(type(y))"
      ]
    },
    {
      "cell_type": "markdown",
      "metadata": {
        "id": "OWD6RVIhH-8k"
      },
      "source": [
        "## Operações Aritméticas entre Variáveis"
      ]
    },
    {
      "cell_type": "code",
      "execution_count": 16,
      "metadata": {
        "colab": {
          "base_uri": "https://localhost:8080/"
        },
        "id": "5D5C2y-oH-8k",
        "outputId": "80a08c90-c89b-4918-d0a6-6c9e3dc76bff",
        "vscode": {
          "languageId": "plaintext"
        }
      },
      "outputs": [
        {
          "data": {
            "text/plain": [
              "9"
            ]
          },
          "execution_count": 16,
          "metadata": {},
          "output_type": "execute_result"
        }
      ],
      "source": [
        "x = 7\n",
        "y = 2\n",
        "\n",
        "x + y"
      ]
    },
    {
      "cell_type": "code",
      "execution_count": 17,
      "metadata": {
        "colab": {
          "base_uri": "https://localhost:8080/"
        },
        "id": "McGRllAHJjCb",
        "outputId": "a6fe6e59-4ce6-441c-e4ed-1520258ea8c0"
      },
      "outputs": [
        {
          "data": {
            "text/plain": [
              "14"
            ]
          },
          "execution_count": 17,
          "metadata": {},
          "output_type": "execute_result"
        }
      ],
      "source": [
        "x * y"
      ]
    },
    {
      "cell_type": "code",
      "execution_count": 18,
      "metadata": {
        "colab": {
          "base_uri": "https://localhost:8080/"
        },
        "id": "zVxOhCXsJjAD",
        "outputId": "5418c69c-5336-4322-b9d9-a63511e0827c"
      },
      "outputs": [
        {
          "data": {
            "text/plain": [
              "3.5"
            ]
          },
          "execution_count": 18,
          "metadata": {},
          "output_type": "execute_result"
        }
      ],
      "source": [
        "x / y"
      ]
    },
    {
      "cell_type": "code",
      "execution_count": 19,
      "metadata": {
        "colab": {
          "base_uri": "https://localhost:8080/"
        },
        "id": "NmLD9xd2Ji81",
        "outputId": "59c0694a-7281-4dcf-c5bd-b50a3c86e368"
      },
      "outputs": [
        {
          "data": {
            "text/plain": [
              "3"
            ]
          },
          "execution_count": 19,
          "metadata": {},
          "output_type": "execute_result"
        }
      ],
      "source": [
        "x // y"
      ]
    },
    {
      "cell_type": "code",
      "execution_count": 20,
      "metadata": {
        "colab": {
          "base_uri": "https://localhost:8080/"
        },
        "id": "bbmJdd_jJi6P",
        "outputId": "128b95af-af23-4cd5-965d-ad573007ddb8"
      },
      "outputs": [
        {
          "data": {
            "text/plain": [
              "49"
            ]
          },
          "execution_count": 20,
          "metadata": {},
          "output_type": "execute_result"
        }
      ],
      "source": [
        "x ** y"
      ]
    },
    {
      "cell_type": "code",
      "execution_count": 21,
      "metadata": {
        "colab": {
          "base_uri": "https://localhost:8080/"
        },
        "id": "CT6Okn-1Ji3y",
        "outputId": "c91a536f-737d-4edb-83d9-e3b93d71f2dd"
      },
      "outputs": [
        {
          "data": {
            "text/plain": [
              "1"
            ]
          },
          "execution_count": 21,
          "metadata": {},
          "output_type": "execute_result"
        }
      ],
      "source": [
        "x % y"
      ]
    },
    {
      "cell_type": "markdown",
      "metadata": {
        "id": "sjECmuKlH-8n"
      },
      "source": [
        "### Comportamento com diferentes tipos"
      ]
    },
    {
      "cell_type": "code",
      "execution_count": 22,
      "metadata": {
        "id": "uwwI321vH-8n",
        "vscode": {
          "languageId": "plaintext"
        }
      },
      "outputs": [],
      "source": [
        "x = 10    # int\n",
        "y = 3.5   # float\n",
        "\n",
        "print(x + y) # 13.5 (float)\n",
        "print(x * y)  # 35.0 (float)"
      ]
    },
    {
      "cell_type": "code",
      "execution_count": 25,
      "metadata": {
        "id": "9aiJuWgwH-8n",
        "vscode": {
          "languageId": "plaintext"
        }
      },
      "outputs": [],
      "source": [
        "a = 8    # int\n",
        "b = 3    # int\n",
        "\n",
        "print(a / b)   # 2.6666666666666665 (float)\n",
        "print(a // b)  # 2 (int)"
      ]
    },
    {
      "cell_type": "code",
      "execution_count": null,
      "metadata": {
        "id": "axCFRr_4H-8n",
        "vscode": {
          "languageId": "plaintext"
        }
      },
      "outputs": [],
      "source": [
        "verdadeiro = True\n",
        "falso = False\n",
        "\n",
        "print(verdadeiro + 1)  # 2\n",
        "print(falso + 1)       # 1"
      ]
    },
    {
      "cell_type": "markdown",
      "metadata": {
        "id": "T1_XJf5aH-8o"
      },
      "source": [
        "### Operações com Strings"
      ]
    },
    {
      "cell_type": "code",
      "execution_count": null,
      "metadata": {
        "id": "MqRbqG1aH-8o",
        "vscode": {
          "languageId": "plaintext"
        }
      },
      "outputs": [],
      "source": [
        "nome = \"Iris\"\n",
        "print(nome + \" é incrível\")  # Concatenação: Iris é incrível\n",
        "print(nome * 3)              # Repetição: IrisIrisIris"
      ]
    },
    {
      "cell_type": "markdown",
      "metadata": {
        "id": "2j9nwWkLH-8o"
      },
      "source": [
        "### Considerações Importantes\n",
        "\n",
        "- Ao realizar operações aritméticas, é crucial estar ciente dos tipos de dados envolvidos para evitar resultados inesperados ou erros de tipo.\n",
        "- Python não permite operações aritméticas diretas entre tipos incompatíveis, como strings e inteiros, sem uma conversão explícita de tipo.\n",
        "As operações aritméticas em Python são intuitivas e flexíveis, permitindo manipular facilmente diferentes tipos de dados. No entanto, é essencial entender como essas operações funcionam para garantir que os resultados sejam os esperados."
      ]
    },
    {
      "cell_type": "markdown",
      "metadata": {
        "id": "UTqdJ5gpH-8o"
      },
      "source": [
        "## Estruturas Condicionais"
      ]
    },
    {
      "cell_type": "code",
      "execution_count": null,
      "metadata": {
        "id": "7I0p67W1H-8o",
        "vscode": {
          "languageId": "plaintext"
        }
      },
      "outputs": [],
      "source": [
        "idade = 18\n",
        "if idade < 18:\n",
        "    print(\"Menor de idade\")\n",
        "elif idade == 18:\n",
        "    print(\"Tem 18 anos\")\n",
        "else:\n",
        "    print(\"Maior de idade\")"
      ]
    },
    {
      "cell_type": "code",
      "execution_count": null,
      "metadata": {
        "id": "rnPqSvM3H-8p",
        "vscode": {
          "languageId": "plaintext"
        }
      },
      "outputs": [],
      "source": [
        "idade = 15  # Idade do usuário\n",
        "permissao_dos_pais = True  # Se o usuário tem permissão dos pais\n",
        "\n",
        "if idade >= 18:\n",
        "    print(\"Acesso liberado a todos os conteúdos.\")\n",
        "elif idade < 18:\n",
        "    print(\"Acesso liberado apenas a conteúdos classificados como Livre.\")\n",
        "    if idade >= 14 and permissao_dos_pais:\n",
        "        print(\"Com permissão dos pais, acesso liberado a conteúdos classificados para maiores de 14 anos.\")\n",
        "    elif idade >= 14 and not permissao_dos_pais:\n",
        "        print(\"Sem permissão dos pais, acesso restrito a conteúdos classificados como Livre.\")\n",
        "    else:\n",
        "        print(\"Acesso restrito a conteúdos classificados como Livre, por não atingir a idade mínima de 14 anos.\")"
      ]
    },
    {
      "cell_type": "markdown",
      "metadata": {
        "id": "rsMFq24NH-8p"
      },
      "source": [
        "## Estruturas de Repetição"
      ]
    },
    {
      "cell_type": "code",
      "execution_count": null,
      "metadata": {
        "id": "q5SEErQnH-8p",
        "vscode": {
          "languageId": "plaintext"
        }
      },
      "outputs": [],
      "source": [
        "for i in range(5):\n",
        "    print(i)"
      ]
    },
    {
      "cell_type": "code",
      "execution_count": null,
      "metadata": {
        "id": "2LsaQpfbH-8p",
        "vscode": {
          "languageId": "plaintext"
        }
      },
      "outputs": [],
      "source": [
        "contador = 0\n",
        "while contador < 5:\n",
        "    print(contador)\n",
        "    contador += 1"
      ]
    },
    {
      "cell_type": "markdown",
      "metadata": {
        "id": "ACMwYveuH-8p"
      },
      "source": [
        "### Range em loops for\n",
        "\n",
        "Sintaxe: `range(inicio, fim, passo)`"
      ]
    },
    {
      "cell_type": "code",
      "execution_count": 43,
      "metadata": {
        "colab": {
          "base_uri": "https://localhost:8080/"
        },
        "id": "iDqpLKxjH-8q",
        "outputId": "462dd6e6-daa5-4e5d-d168-e871d18aebe3",
        "vscode": {
          "languageId": "plaintext"
        }
      },
      "outputs": [
        {
          "name": "stdout",
          "output_type": "stream",
          "text": [
            "0\n",
            "1\n",
            "2\n",
            "3\n",
            "4\n"
          ]
        }
      ],
      "source": [
        "for i in range(5):\n",
        "    print(i)"
      ]
    },
    {
      "cell_type": "code",
      "execution_count": null,
      "metadata": {
        "id": "13WtDJkrH-8q",
        "vscode": {
          "languageId": "plaintext"
        }
      },
      "outputs": [],
      "source": [
        "for i in range(2, 5):\n",
        "    print(i)"
      ]
    },
    {
      "cell_type": "code",
      "execution_count": null,
      "metadata": {
        "id": "0uomqHnaH-8q",
        "vscode": {
          "languageId": "plaintext"
        }
      },
      "outputs": [],
      "source": [
        "for i in range(0, 10, 2):\n",
        "    print(i)"
      ]
    },
    {
      "cell_type": "code",
      "execution_count": null,
      "metadata": {
        "id": "uSCx-0iiH-8q",
        "vscode": {
          "languageId": "plaintext"
        }
      },
      "outputs": [],
      "source": [
        "for i in range(4, -1, -1):\n",
        "    print(i)"
      ]
    },
    {
      "cell_type": "markdown",
      "metadata": {
        "id": "eBGTHC7GH-8q"
      },
      "source": [
        "## Funções e Expressões Lambda\n",
        "\n",
        "- Funções: Bloco de código que só é executado quando chamado.\n",
        "- Expressões Lambda: Função anônima de uma única linha.\n"
      ]
    },
    {
      "cell_type": "code",
      "execution_count": 42,
      "metadata": {
        "colab": {
          "base_uri": "https://localhost:8080/"
        },
        "id": "anxCXvkRH-8r",
        "outputId": "651a54f8-6366-4d52-fafa-800c5a218801",
        "vscode": {
          "languageId": "plaintext"
        }
      },
      "outputs": [
        {
          "name": "stdout",
          "output_type": "stream",
          "text": [
            "3\n",
            "3\n"
          ]
        }
      ],
      "source": [
        "def soma(x, y):\n",
        "    return x + y\n",
        "\n",
        "soma_lambda = lambda x, y: x + y\n",
        "\n",
        "print(soma(1, 2))\n",
        "print(soma_lambda(1, 2))"
      ]
    },
    {
      "cell_type": "code",
      "execution_count": null,
      "metadata": {
        "vscode": {
          "languageId": "plaintext"
        }
      },
      "outputs": [],
      "source": [
        "def filtrar_usuarios_por_idade(usuarios, idade_minima):\n",
        "    \"\"\"\n",
        "    Esta função recebe uma lista de dicionários representando usuários\n",
        "    e uma idade mínima. Retorna uma nova lista contendo apenas os usuários\n",
        "    que têm idade igual ou superior à idade mínima especificada.\n",
        "    \"\"\"\n",
        "    return [usuario for usuario in usuarios if usuario['idade'] >= idade_minima]\n",
        "\n",
        "# Lista de dicionários representando usuários\n",
        "usuarios = [\n",
        "    {'nome': 'Alice', 'idade': 30},\n",
        "    {'nome': 'Bob', 'idade': 20},\n",
        "    {'nome': 'Carol', 'idade': 25},\n",
        "    {'nome': 'Dave', 'idade': 35}\n",
        "]\n",
        "\n",
        "usuarios_filtrados = filtrar_usuarios_por_idade(usuarios, 25)\n",
        "print(\"Usuários com idade >= 25:\", usuarios_filtrados)"
      ]
    },
    {
      "cell_type": "markdown",
      "metadata": {
        "id": "Q0fKyqRvH-8r"
      },
      "source": [
        "## Estruturas de Dados"
      ]
    },
    {
      "cell_type": "markdown",
      "metadata": {
        "id": "W6MkYGq0H-8r"
      },
      "source": [
        "### List"
      ]
    },
    {
      "cell_type": "code",
      "execution_count": null,
      "metadata": {
        "colab": {
          "base_uri": "https://localhost:8080/"
        },
        "id": "necHzNT_L3EV",
        "outputId": "6c2e8891-b698-4a66-aa73-06e909415ab1"
      },
      "outputs": [
        {
          "data": {
            "text/plain": [
              "[1, 2, 3, 4, 5]"
            ]
          },
          "execution_count": 45,
          "metadata": {},
          "output_type": "execute_result"
        }
      ],
      "source": [
        "lista_vazia = list()\n",
        "lista_vazia = []\n",
        "\n",
        "minha_lista = [1, 2, 3, 4, 5]\n",
        "minha_lista"
      ]
    },
    {
      "cell_type": "code",
      "execution_count": null,
      "metadata": {
        "colab": {
          "base_uri": "https://localhost:8080/"
        },
        "id": "BLAlDHQ_KgwU",
        "outputId": "8720360d-8448-47f5-f018-199157774153"
      },
      "outputs": [
        {
          "data": {
            "text/plain": [
              "[1, 2, 3, 4, 5, 6]"
            ]
          },
          "execution_count": 28,
          "metadata": {},
          "output_type": "execute_result"
        }
      ],
      "source": [
        "# Adicionando um item ao final da lista\n",
        "minha_lista.append(6)\n",
        "minha_lista"
      ]
    },
    {
      "cell_type": "code",
      "execution_count": null,
      "metadata": {
        "colab": {
          "base_uri": "https://localhost:8080/"
        },
        "id": "-iztuzS2KjMx",
        "outputId": "f7b21f5a-7597-4c92-dbeb-d6dfb489c440"
      },
      "outputs": [
        {
          "data": {
            "text/plain": [
              "[1, 2, 4, 5, 6]"
            ]
          },
          "execution_count": 29,
          "metadata": {},
          "output_type": "execute_result"
        }
      ],
      "source": [
        "# Removendo a primeira ocorrência do item\n",
        "minha_lista.remove(3)\n",
        "minha_lista"
      ]
    },
    {
      "cell_type": "code",
      "execution_count": null,
      "metadata": {
        "colab": {
          "base_uri": "https://localhost:8080/"
        },
        "id": "ou5HVp9sKobq",
        "outputId": "4f905037-8897-4fb7-e13b-8e1bab605836"
      },
      "outputs": [
        {
          "data": {
            "text/plain": [
              "[6, 5, 4, 2, 1]"
            ]
          },
          "execution_count": 30,
          "metadata": {},
          "output_type": "execute_result"
        }
      ],
      "source": [
        "# Ordenando a lista\n",
        "minha_lista.sort(reverse=True)\n",
        "minha_lista"
      ]
    },
    {
      "cell_type": "code",
      "execution_count": null,
      "metadata": {
        "colab": {
          "base_uri": "https://localhost:8080/"
        },
        "id": "sXDbXfj7Kqj3",
        "outputId": "673f7e61-69b9-4a25-dff7-13cc9c4f8519"
      },
      "outputs": [
        {
          "data": {
            "text/plain": [
              "[6, 5, 4, 2, 1]"
            ]
          },
          "execution_count": 31,
          "metadata": {},
          "output_type": "execute_result"
        }
      ],
      "source": [
        "# Ordenando a lista\n",
        "minha_lista.sort(reverse=True)\n",
        "minha_lista"
      ]
    },
    {
      "cell_type": "code",
      "execution_count": null,
      "metadata": {
        "colab": {
          "base_uri": "https://localhost:8080/"
        },
        "id": "HjukabWLKwPA",
        "outputId": "da030deb-e53b-492f-a180-b5b50725cf13"
      },
      "outputs": [
        {
          "data": {
            "text/plain": [
              "[1, 2, 4, 5, 6]"
            ]
          },
          "execution_count": 32,
          "metadata": {},
          "output_type": "execute_result"
        }
      ],
      "source": [
        "# Invertendo a ordem dos itens na lista\n",
        "minha_lista.reverse()\n",
        "minha_lista"
      ]
    },
    {
      "cell_type": "code",
      "execution_count": null,
      "metadata": {
        "colab": {
          "base_uri": "https://localhost:8080/"
        },
        "id": "GdSEG3MTK3gO",
        "outputId": "e2d93f3e-5b73-4cf4-eee8-8bfa2ae5db37"
      },
      "outputs": [
        {
          "name": "stdout",
          "output_type": "stream",
          "text": [
            "6\n",
            "[1, 2, 4, 5]\n"
          ]
        }
      ],
      "source": [
        "# Removendo e retornando o último item\n",
        "ultimo_item = minha_lista.pop()\n",
        "print(ultimo_item)\n",
        "print(minha_lista)"
      ]
    },
    {
      "cell_type": "code",
      "execution_count": null,
      "metadata": {
        "colab": {
          "base_uri": "https://localhost:8080/"
        },
        "id": "YiIMvZC7LHsu",
        "outputId": "9d7c1f2b-c91e-452a-f669-f39b05fac3b7"
      },
      "outputs": [
        {
          "name": "stdout",
          "output_type": "stream",
          "text": [
            "1245\n",
            "1245"
          ]
        }
      ],
      "source": [
        "# Iterando pela lista\n",
        "\n",
        "for i in range(len(minha_lista)):\n",
        "    print(minha_lista[i], end =\"\")\n",
        "\n",
        "print()\n",
        "\n",
        "for x in minha_lista:\n",
        "    print(x, end =\"\")"
      ]
    },
    {
      "cell_type": "markdown",
      "metadata": {
        "id": "G3UavTMwH-8s"
      },
      "source": [
        "### Set"
      ]
    },
    {
      "cell_type": "code",
      "execution_count": null,
      "metadata": {
        "colab": {
          "base_uri": "https://localhost:8080/"
        },
        "id": "JL2hHsuvLzNN",
        "outputId": "d657ea3b-dad2-425f-f21f-1e6bb9058462"
      },
      "outputs": [
        {
          "data": {
            "text/plain": [
              "{1, 2, 3, 4, 5}"
            ]
          },
          "execution_count": 44,
          "metadata": {},
          "output_type": "execute_result"
        }
      ],
      "source": [
        "conjunto_vazio = set()\n",
        "\n",
        "# Criando um conjunto\n",
        "meu_conjunto = {1, 2, 3, 4, 5}\n",
        "meu_conjunto"
      ]
    },
    {
      "cell_type": "code",
      "execution_count": null,
      "metadata": {
        "colab": {
          "base_uri": "https://localhost:8080/"
        },
        "id": "sak3smG5MFqZ",
        "outputId": "34c1480a-c5d5-4930-b37d-88dff7211088"
      },
      "outputs": [
        {
          "data": {
            "text/plain": [
              "{1, 2, 3, 4, 5, 6}"
            ]
          },
          "execution_count": 46,
          "metadata": {},
          "output_type": "execute_result"
        }
      ],
      "source": [
        "# Adicionando um item ao conjunto\n",
        "meu_conjunto.add(6)\n",
        "meu_conjunto"
      ]
    },
    {
      "cell_type": "code",
      "execution_count": null,
      "metadata": {
        "colab": {
          "base_uri": "https://localhost:8080/"
        },
        "id": "t3BDc95KMJF1",
        "outputId": "ff6546db-a3d1-4254-ad0d-2c00c6187f6a"
      },
      "outputs": [
        {
          "data": {
            "text/plain": [
              "{1, 2, 4, 5, 6}"
            ]
          },
          "execution_count": 47,
          "metadata": {},
          "output_type": "execute_result"
        }
      ],
      "source": [
        "# Removendo um item do conjunto\n",
        "meu_conjunto.remove(3)\n",
        "meu_conjunto"
      ]
    },
    {
      "cell_type": "code",
      "execution_count": null,
      "metadata": {
        "colab": {
          "base_uri": "https://localhost:8080/"
        },
        "id": "p3FFBUitML4X",
        "outputId": "7ad310cf-7fe1-4bed-d88f-1363dc5604b1"
      },
      "outputs": [
        {
          "name": "stdout",
          "output_type": "stream",
          "text": [
            "True\n",
            "False\n"
          ]
        }
      ],
      "source": [
        "# Checa se um elemento está no conjunto\n",
        "\n",
        "print(1 in meu_conjunto)\n",
        "print(3 in meu_conjunto)"
      ]
    },
    {
      "cell_type": "markdown",
      "metadata": {
        "id": "3lfKMpFTH-8s"
      },
      "source": [
        "### Dicionário"
      ]
    },
    {
      "cell_type": "code",
      "execution_count": null,
      "metadata": {
        "colab": {
          "base_uri": "https://localhost:8080/",
          "height": 36
        },
        "id": "KKYkD7RaMnPk",
        "outputId": "95536232-2a51-4057-fef8-54cdcdcc5839"
      },
      "outputs": [
        {
          "data": {
            "application/vnd.google.colaboratory.intrinsic+json": {
              "type": "string"
            },
            "text/plain": [
              "'João'"
            ]
          },
          "execution_count": 2,
          "metadata": {},
          "output_type": "execute_result"
        }
      ],
      "source": [
        "dicionario_vazio = dict()\n",
        "\n",
        "meu_dicionario = {'nome': 'João', 'idade': 30}\n",
        "meu_dicionario['nome']"
      ]
    },
    {
      "cell_type": "code",
      "execution_count": null,
      "metadata": {
        "colab": {
          "base_uri": "https://localhost:8080/",
          "height": 36
        },
        "id": "nHA6cfCXMten",
        "outputId": "891b0880-de00-4410-c1b4-b8d35deeb06a"
      },
      "outputs": [
        {
          "data": {
            "application/vnd.google.colaboratory.intrinsic+json": {
              "type": "string"
            },
            "text/plain": [
              "'Lucca'"
            ]
          },
          "execution_count": 3,
          "metadata": {},
          "output_type": "execute_result"
        }
      ],
      "source": [
        "# Alterando um valor\n",
        "meu_dicionario['nome'] = 'Lucca'\n",
        "meu_dicionario['nome']"
      ]
    },
    {
      "cell_type": "code",
      "execution_count": null,
      "metadata": {
        "colab": {
          "base_uri": "https://localhost:8080/"
        },
        "id": "aJwNLG9eMzru",
        "outputId": "fb7537db-3e1b-4133-dd10-3329deb8c2e6"
      },
      "outputs": [
        {
          "data": {
            "text/plain": [
              "True"
            ]
          },
          "execution_count": 5,
          "metadata": {},
          "output_type": "execute_result"
        }
      ],
      "source": [
        "# Checa se uma chave está no dict\n",
        "'nome' in meu_dicionario"
      ]
    },
    {
      "cell_type": "code",
      "execution_count": null,
      "metadata": {
        "colab": {
          "base_uri": "https://localhost:8080/",
          "height": 36
        },
        "id": "J6hFXhWuOhwy",
        "outputId": "b2ad01e8-e249-481f-f0c9-70a8f0c74d1f"
      },
      "outputs": [
        {
          "data": {
            "application/vnd.google.colaboratory.intrinsic+json": {
              "type": "string"
            },
            "text/plain": [
              "'Lucca'"
            ]
          },
          "execution_count": 6,
          "metadata": {},
          "output_type": "execute_result"
        }
      ],
      "source": [
        "# Acessando um valor com .get()\n",
        "meu_dicionario.get('nome')"
      ]
    },
    {
      "cell_type": "code",
      "execution_count": null,
      "metadata": {
        "colab": {
          "base_uri": "https://localhost:8080/"
        },
        "id": "lk_2Edp-Olhy",
        "outputId": "d115cb12-1282-406a-c8d9-287f14a41a32"
      },
      "outputs": [
        {
          "data": {
            "text/plain": [
              "['nome', 'idade']"
            ]
          },
          "execution_count": 7,
          "metadata": {},
          "output_type": "execute_result"
        }
      ],
      "source": [
        "# Listando todas as chaves\n",
        "list(meu_dicionario.keys())"
      ]
    },
    {
      "cell_type": "code",
      "execution_count": null,
      "metadata": {
        "colab": {
          "base_uri": "https://localhost:8080/"
        },
        "id": "Kn8Ml9Q1OtAF",
        "outputId": "12a2235d-f6a7-45bb-eb78-54a7c3f62bb7"
      },
      "outputs": [
        {
          "data": {
            "text/plain": [
              "['Lucca', 30]"
            ]
          },
          "execution_count": 9,
          "metadata": {},
          "output_type": "execute_result"
        }
      ],
      "source": [
        "# Listando todos os valores\n",
        "list(meu_dicionario.values())"
      ]
    },
    {
      "cell_type": "code",
      "execution_count": null,
      "metadata": {
        "colab": {
          "base_uri": "https://localhost:8080/"
        },
        "id": "dJZuDX5sH-8s",
        "outputId": "49efa76c-c3b1-4459-d686-cacfd1d118f3",
        "vscode": {
          "languageId": "plaintext"
        }
      },
      "outputs": [
        {
          "name": "stdout",
          "output_type": "stream",
          "text": [
            "[('nome', 'Lucca'), ('idade', 30)]\n"
          ]
        }
      ],
      "source": [
        "# Listando todos os pares chave-valor\n",
        "print(list(meu_dicionario.items()))"
      ]
    }
  ],
  "metadata": {
    "colab": {
      "provenance": []
    },
    "kernelspec": {
      "display_name": "Python 3",
      "name": "python3"
    },
    "language_info": {
      "name": "python"
    }
  },
  "nbformat": 4,
  "nbformat_minor": 0
}
